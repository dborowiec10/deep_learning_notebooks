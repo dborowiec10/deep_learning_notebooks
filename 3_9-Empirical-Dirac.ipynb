{
 "cells": [
  {
   "cell_type": "code",
   "execution_count": 1,
   "metadata": {},
   "outputs": [],
   "source": [
    "# Empirical distribution - using the Dirac Delta:"
   ]
  },
  {
   "cell_type": "markdown",
   "metadata": {},
   "source": [
    "## Probability Density Function"
   ]
  },
  {
   "attachments": {
    "6a05acb9-0028-4645-a52a-3fbdf2544596.png": {
     "image/png": "[encoded data removed]"
    }
   },
   "cell_type": "markdown",
   "metadata": {},
   "source": [
    "![image.png](attachment:6a05acb9-0028-4645-a52a-3fbdf2544596.png)"
   ]
  },
  {
   "cell_type": "markdown",
   "metadata": {},
   "source": [
    "puts probability mass 1/m on each of the m points x(1) , . . . ,x(m) forming a given dataset or collection of samples"
   ]
  },
  {
   "cell_type": "code",
   "execution_count": 2,
   "metadata": {},
   "outputs": [],
   "source": [
    "# In some cases, we wish to specify that all of the mass in a probability distribution clusters around a single point. \n",
    "# This can be accomplished by defining a PDF using the Dirac delta function, δ(x):"
   ]
  },
  {
   "attachments": {
    "c268dfa7-5d5a-435a-b5d3-f25cf88a9991.png": {
     "image/png": "[encoded data removed]"
    }
   },
   "cell_type": "markdown",
   "metadata": {},
   "source": [
    "![image.png](attachment:c268dfa7-5d5a-435a-b5d3-f25cf88a9991.png)"
   ]
  },
  {
   "cell_type": "code",
   "execution_count": 3,
   "metadata": {},
   "outputs": [],
   "source": [
    "# The Dirac delta function is defined such that it is zero-valued everywhere except 0, yet integrates to 1. \n",
    "# The Dirac delta function is not an ordinary function that associates each value x with a real-valued output.\n",
    "# Instead it is a different kind of mathematical object called a generalized function that is defined in terms of its properties when integrated. \n",
    "# We can think of the Dirac delta function as being the limit point of a series of functions that put less and less mass on all points other than zero.\n",
    "# By defining p(x) to be δ shifted by −µ we obtain an infinitely narrow and infinitely high peak of probability mass where x = µ."
   ]
  },
  {
   "cell_type": "code",
   "execution_count": null,
   "metadata": {},
   "outputs": [],
   "source": [
    "# The Dirac delta distribution is only necessary to define the empirical distribution over continuous variables\n",
    "\n",
    "# For discrete variables, the situation is simpler: \n",
    "# # an empirical distribution can be conceptualized as a multinoulli distribution,\n",
    "# # with a probability associated to each possible input value that is simply equal to the empirical frequency of that value in the training set."
   ]
  }
 ],
 "metadata": {
  "kernelspec": {
   "display_name": "Python 3",
   "language": "python",
   "name": "python3"
  },
  "language_info": {
   "codemirror_mode": {
    "name": "ipython",
    "version": 3
   },
   "file_extension": ".py",
   "mimetype": "text/x-python",
   "name": "python",
   "nbconvert_exporter": "python",
   "pygments_lexer": "ipython3",
   "version": "3.8.3"
  }
 },
 "nbformat": 4,
 "nbformat_minor": 4
}
