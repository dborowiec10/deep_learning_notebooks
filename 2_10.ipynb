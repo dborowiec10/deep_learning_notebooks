{
 "cells": [
  {
   "cell_type": "code",
   "execution_count": 1,
   "metadata": {},
   "outputs": [],
   "source": [
    "import numpy as np\n",
    "import matplotlib.pyplot as plt\n",
    "from pprint import pprint\n",
    "\n",
    "# Trace operator\n",
    "\n",
    "# sum of all values in the diagonal of square matrix\n",
    "\n",
    "A = np.array([\n",
    "    [2, 9, 8], \n",
    "    [4, 7, 1], \n",
    "    [8, 2, 5]\n",
    "])\n",
    "\n",
    "A_tr = np.trace(A)\n",
    "\n",
    "\n",
    "# it can be used to specify Frobenius norm of matrix - equivalent of L2 norm for matrices"
   ]
  },
  {
   "attachments": {
    "e8575248-eeff-4903-9e0e-4707f8d70624.png": {
     "image/png": "[encoded data removed]"
    }
   },
   "cell_type": "markdown",
   "metadata": {},
   "source": [
    "![image.png](attachment:e8575248-eeff-4903-9e0e-4707f8d70624.png)"
   ]
  },
  {
   "cell_type": "code",
   "execution_count": 2,
   "metadata": {},
   "outputs": [],
   "source": [
    "# or"
   ]
  },
  {
   "attachments": {
    "87f28439-3cc8-4db9-a3d4-20ec6d57684b.png": {
     "image/png": "[encoded data removed]"
    }
   },
   "cell_type": "markdown",
   "metadata": {},
   "source": [
    "![image.png](attachment:87f28439-3cc8-4db9-a3d4-20ec6d57684b.png)"
   ]
  },
  {
   "cell_type": "code",
   "execution_count": 3,
   "metadata": {},
   "outputs": [
    {
     "name": "stdout",
     "output_type": "stream",
     "text": [
      "17.549928774784245\n",
      "17.549928774784245\n"
     ]
    }
   ],
   "source": [
    "# or \n",
    "A_norm = np.linalg.norm(A)\n",
    "\n",
    "A_norm_trace = np.sqrt(np.trace(A.dot(A.T)))\n",
    "\n",
    "pprint(A_norm)\n",
    "pprint(A_norm_trace)"
   ]
  },
  {
   "cell_type": "code",
   "execution_count": null,
   "metadata": {},
   "outputs": [],
   "source": [
    "# even more interestingly, it works whichever way the matrices are specified...\n",
    "\n",
    "# Tr(ABC) = Tr(CAB) = Tr(BCA)"
   ]
  }
 ],
 "metadata": {
  "kernelspec": {
   "display_name": "Python 3",
   "language": "python",
   "name": "python3"
  },
  "language_info": {
   "codemirror_mode": {
    "name": "ipython",
    "version": 3
   },
   "file_extension": ".py",
   "mimetype": "text/x-python",
   "name": "python",
   "nbconvert_exporter": "python",
   "pygments_lexer": "ipython3",
   "version": "3.8.3"
  }
 },
 "nbformat": 4,
 "nbformat_minor": 4
}
