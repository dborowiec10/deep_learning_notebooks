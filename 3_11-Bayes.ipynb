{
 "cells": [
  {
   "cell_type": "code",
   "execution_count": 1,
   "metadata": {},
   "outputs": [],
   "source": [
    "# Bayes Rule:\n",
    "\n",
    "# We know P(y | x) and need to know P(x | y)\n",
    "# We also know P(x)\n",
    "# Rule allows us to find P(x | y)"
   ]
  },
  {
   "attachments": {
    "b4cfcba7-4061-4359-ba22-29a47e5111fa.png": {
     "image/png": "[encoded data removed]"
    }
   },
   "cell_type": "markdown",
   "metadata": {},
   "source": [
    "![image.png](attachment:b4cfcba7-4061-4359-ba22-29a47e5111fa.png)"
   ]
  },
  {
   "cell_type": "code",
   "execution_count": null,
   "metadata": {},
   "outputs": [],
   "source": [
    "# Note that while P (y) appears in the formula, it is usually feasible to compute P(y) = Ex P(y | x)P(x), so we do not need to begin with knowledge of P(y)."
   ]
  }
 ],
 "metadata": {
  "kernelspec": {
   "display_name": "Python 3",
   "language": "python",
   "name": "python3"
  },
  "language_info": {
   "codemirror_mode": {
    "name": "ipython",
    "version": 3
   },
   "file_extension": ".py",
   "mimetype": "text/x-python",
   "name": "python",
   "nbconvert_exporter": "python",
   "pygments_lexer": "ipython3",
   "version": "3.8.3"
  }
 },
 "nbformat": 4,
 "nbformat_minor": 4
}
